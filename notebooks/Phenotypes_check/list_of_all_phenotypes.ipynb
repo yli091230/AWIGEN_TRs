{
 "cells": [
  {
   "cell_type": "markdown",
   "metadata": {},
   "source": [
    "## This notebook check number of samples available for each phenotypes"
   ]
  },
  {
   "cell_type": "code",
   "execution_count": 1,
   "metadata": {},
   "outputs": [],
   "source": [
    "import pandas as pd\n",
    "import matplotlib.pyplot as plt\n",
    "import numpy as np\n",
    "import seaborn as sns"
   ]
  },
  {
   "cell_type": "code",
   "execution_count": 2,
   "metadata": {},
   "outputs": [],
   "source": [
    "pheno_folder = \"/expanse/protected/gymreklab-dbgap/mount/H3Africa/DS_I_Africa_project/from_ilifu/awigen_dataset/phenotypes\"\n",
    "pheno_df = pd.read_csv(pheno_folder+\"/EGAF00004691444/EGA_dataset_v0_1.csv\")\n",
    "pheno_df.columns = [i.strip(\" \") for i in pheno_df.columns.tolist()]\n",
    "pheno_df[\"study_id\"] = pheno_df[\"study_id\"].apply(lambda x: x.strip(\" \"))\n",
    "pheno_df[\"country_qc\"] = pheno_df[\"study_id\"].apply(lambda x: x.strip(\" \"))"
   ]
  },
  {
   "cell_type": "code",
   "execution_count": 4,
   "metadata": {},
   "outputs": [
    {
     "data": {
      "text/plain": [
       "['Main',\n",
       " '1. Demographic Information',\n",
       " '2. Behaviour_Lifestyle',\n",
       " '3. Health History',\n",
       " '4. Family History',\n",
       " '5. Exposure',\n",
       " '6. Infection History',\n",
       " '7. Cardiovascular Disease Risk',\n",
       " '8. Measurements & Calculations']"
      ]
     },
     "execution_count": 4,
     "metadata": {},
     "output_type": "execute_result"
    }
   ],
   "source": [
    "phnoe_excel = pd.ExcelFile(pheno_folder+\"/EGAF00004691445/V2.0_AWI-Gen_Code_Book-EGA_Variables.xlsx\")\n",
    "phnoe_excel.sheet_names"
   ]
  },
  {
   "cell_type": "code",
   "execution_count": 5,
   "metadata": {},
   "outputs": [],
   "source": [
    "Measue_df = phnoe_excel.parse('8. Measurements & Calculations',skiprows=2)"
   ]
  },
  {
   "cell_type": "code",
   "execution_count": 55,
   "metadata": {},
   "outputs": [
    {
     "name": "stdout",
     "output_type": "stream",
     "text": [
      "standing_height_qc: 11,948\n",
      "weight_qc: 11,956\n",
      "bmi_c_qc: 11,945\n",
      "bmi_cat_c_qc: 11,945\n",
      "waist_circumference_qc: 11,472\n",
      "hip_circumference_qc: 11,479\n",
      "waist_hip_r_c_qc: 11,468\n",
      "bp_sys_average_qc: 11,944\n",
      "bp_dia_average_qc: 11,945\n",
      "htn_jnc7_qc: 12,032\n",
      "pulse_average_qc: 11,968\n",
      "visceral_fat_qc: 11,059\n",
      "subcutaneous_fat_qc: 11,165\n",
      "mean_cimt_right_qc: 9,945\n",
      "mean_cimt_left_qc: 9,952\n",
      "fasting_confirmation_qc: 11,407\n",
      "glucose_qc: 11,655\n",
      "insulin_qc: 8,119\n",
      "diabetes_status_c_qc: 12,032\n",
      "s_creatinine_qc: 11,701\n",
      "hdl_qc: 11,719\n",
      "ldl_qc: 10,619\n",
      "friedewald_ldl_c_c_qc: 11,687\n",
      "cholesterol_1_qc: 11,717\n",
      "non_hdl_c_c_qc: 11,717\n",
      "triglycerides_qc: 11,701\n",
      "ur_creatinine_qc: 9,023\n",
      "ur_albumin_qc: 4,491\n",
      "ur_protein_qc: 9,863\n",
      "acr_qc: 4,288\n",
      "egfr_c_qc: 11,701\n",
      "ckd_c_qc: 9,836\n"
     ]
    }
   ],
   "source": [
    "trait_list = Measue_df[\"Variable Name\"].tolist()\n",
    "for trait in trait_list:\n",
    "    valid_data = sum(~(pheno_df[trait].isnull() | pheno_df[trait].isin([-999,-111,-222])))\n",
    "    print(f\"{trait}: {valid_data:,}\")"
   ]
  },
  {
   "cell_type": "code",
   "execution_count": 56,
   "metadata": {},
   "outputs": [
    {
     "data": {
      "text/plain": [
       "32"
      ]
     },
     "execution_count": 56,
     "metadata": {},
     "output_type": "execute_result"
    }
   ],
   "source": [
    "len(trait_list)"
   ]
  },
  {
   "cell_type": "code",
   "execution_count": null,
   "metadata": {},
   "outputs": [],
   "source": []
  }
 ],
 "metadata": {
  "kernelspec": {
   "display_name": "Python 3",
   "language": "python",
   "name": "python3"
  },
  "language_info": {
   "codemirror_mode": {
    "name": "ipython",
    "version": 3
   },
   "file_extension": ".py",
   "mimetype": "text/x-python",
   "name": "python",
   "nbconvert_exporter": "python",
   "pygments_lexer": "ipython3",
   "version": "3.8.5"
  }
 },
 "nbformat": 4,
 "nbformat_minor": 4
}
