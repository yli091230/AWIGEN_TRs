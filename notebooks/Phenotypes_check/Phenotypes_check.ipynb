{
 "cells": [
  {
   "cell_type": "markdown",
   "metadata": {},
   "source": [
    "# This notebook check available phenotypes from AWIGEN"
   ]
  },
  {
   "cell_type": "code",
   "execution_count": 1,
   "metadata": {},
   "outputs": [],
   "source": [
    "import pandas as pd"
   ]
  },
  {
   "cell_type": "code",
   "execution_count": 2,
   "metadata": {},
   "outputs": [],
   "source": [
    "pheno_folder = \"/expanse/protected/gymreklab-dbgap/mount/H3Africa/DS_I_Africa_project/from_ilifu/awigen_dataset/phenotypes\""
   ]
  },
  {
   "cell_type": "code",
   "execution_count": 75,
   "metadata": {},
   "outputs": [],
   "source": [
    "pheno_df = pd.read_csv(pheno_folder+\"/EGAF00004691444/EGA_dataset_v0_1.csv\")\n",
    "pheno_df.columns = [i.strip(\" \") for i in pheno_df.columns.tolist()]\n",
    "pheno_df[\"study_id\"] = pheno_df[\"study_id\"].apply(lambda x: x.strip(\" \"))\n",
    "pheno_df[\"country_qc\"] = pheno_df[\"study_id\"].apply(lambda x: x.strip(\" \"))"
   ]
  },
  {
   "cell_type": "markdown",
   "metadata": {},
   "source": [
    "## Find samples that overlap with the VCF files"
   ]
  },
  {
   "cell_type": "code",
   "execution_count": 72,
   "metadata": {},
   "outputs": [],
   "source": [
    "ind_df = pd.read_csv(\"/expanse/protected/gymreklab-dbgap/mount/H3Africa/DS_I_Africa_project/from_ilifu/results/GWAS/PCs/calculate_pc/ind\",\n",
    "                     header=None,\n",
    "                     usecols=[0,1],\n",
    "                     sep=\"\\s+\", \n",
    "                     names=[\"study_id\",\"sex\"])\n",
    "ind_df = ind_df.merge(pheno_df[[\"study_id\",\"country_qc\"]],on=\"study_id\",how=\"left\")\n",
    "# fill those missing country one with \"no_label\"\n",
    "ind_df.country_qc.fillna(\"no_label\",inplace=True)\n",
    "ind_df.to_csv(\"/expanse/protected/gymreklab-dbgap/mount/H3Africa/DS_I_Africa_project/from_ilifu/results/GWAS/PCs/calculate_pc/ind_country\",\n",
    "              sep=\"\\t\",\n",
    "              header=None,\n",
    "              index=None)"
   ]
  },
  {
   "cell_type": "code",
   "execution_count": 28,
   "metadata": {},
   "outputs": [
    {
     "data": {
      "text/plain": [
       "0          0.63\n",
       "1          3.34\n",
       "2          2.55\n",
       "3          3.96\n",
       "4          2.13\n",
       "          ...  \n",
       "12028      3.79\n",
       "12029      2.68\n",
       "12030      2.73\n",
       "12031   -222.00\n",
       "12032       NaN\n",
       "Name:  ldl_qc , Length: 12033, dtype: float64"
      ]
     },
     "execution_count": 28,
     "metadata": {},
     "output_type": "execute_result"
    }
   ],
   "source": [
    "pheno_df[[i  for i in pheno_df.columns.tolist() if \"ldl\" in i]][\" ldl_qc \"]#.isnull().sum()"
   ]
  },
  {
   "cell_type": "markdown",
   "metadata": {},
   "source": [
    "## Load the definition of all columns"
   ]
  },
  {
   "cell_type": "code",
   "execution_count": 9,
   "metadata": {},
   "outputs": [],
   "source": [
    "phnoe_excel = pd.ExcelFile(pheno_folder+\"/EGAF00004691445/V2.0_AWI-Gen_Code_Book-EGA_Variables.xlsx\")"
   ]
  },
  {
   "cell_type": "code",
   "execution_count": 10,
   "metadata": {},
   "outputs": [
    {
     "data": {
      "text/plain": [
       "['Main',\n",
       " '1. Demographic Information',\n",
       " '2. Behaviour_Lifestyle',\n",
       " '3. Health History',\n",
       " '4. Family History',\n",
       " '5. Exposure',\n",
       " '6. Infection History',\n",
       " '7. Cardiovascular Disease Risk',\n",
       " '8. Measurements & Calculations']"
      ]
     },
     "execution_count": 10,
     "metadata": {},
     "output_type": "execute_result"
    }
   ],
   "source": [
    "phnoe_excel.sheet_names"
   ]
  },
  {
   "cell_type": "code",
   "execution_count": 17,
   "metadata": {},
   "outputs": [],
   "source": [
    "df = phnoe_excel.parse('8. Measurements & Calculations',skiprows=2)"
   ]
  },
  {
   "cell_type": "code",
   "execution_count": 30,
   "metadata": {},
   "outputs": [
    {
     "data": {
      "text/plain": [
       "'-999 - Missing\\n-111 - Out-of-range (lower bound)\\n-222 - Out-of-range (up bound)'"
      ]
     },
     "execution_count": 30,
     "metadata": {},
     "output_type": "execute_result"
    }
   ],
   "source": [
    "df.loc[21][\"Categorical Description\"]"
   ]
  },
  {
   "cell_type": "code",
   "execution_count": null,
   "metadata": {},
   "outputs": [],
   "source": []
  }
 ],
 "metadata": {
  "kernelspec": {
   "display_name": "Python 3",
   "language": "python",
   "name": "python3"
  },
  "language_info": {
   "codemirror_mode": {
    "name": "ipython",
    "version": 3
   },
   "file_extension": ".py",
   "mimetype": "text/x-python",
   "name": "python",
   "nbconvert_exporter": "python",
   "pygments_lexer": "ipython3",
   "version": "3.8.5"
  }
 },
 "nbformat": 4,
 "nbformat_minor": 4
}
