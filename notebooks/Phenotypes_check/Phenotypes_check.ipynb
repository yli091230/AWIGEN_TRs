{
 "cells": [
  {
   "cell_type": "markdown",
   "metadata": {},
   "source": [
    "# This notebook check available phenotypes from AWIGEN\n",
    "\n",
    "## 1. Load all phenotypes and find samples also have genotypes\n",
    "## 2. Visulize PCs\n",
    "## 3. Prepar covariate files and phenotype files\n",
    "\n",
    "Use LDL as an example, filtering values based on the measurement description, like out-bound, invalid, etc"
   ]
  },
  {
   "cell_type": "code",
   "execution_count": 17,
   "metadata": {},
   "outputs": [],
   "source": [
    "import pandas as pd\n",
    "import matplotlib.pyplot as plt\n",
    "import numpy as np\n",
    "import seaborn as sns\n",
    "import os"
   ]
  },
  {
   "cell_type": "markdown",
   "metadata": {},
   "source": [
    "## 1. Load all phenotypes"
   ]
  },
  {
   "cell_type": "code",
   "execution_count": 3,
   "metadata": {},
   "outputs": [],
   "source": [
    "pheno_folder = \"/expanse/protected/gymreklab-dbgap/mount/H3Africa/DS_I_Africa_project/from_ilifu/awigen_dataset/phenotypes\""
   ]
  },
  {
   "cell_type": "code",
   "execution_count": 4,
   "metadata": {},
   "outputs": [],
   "source": [
    "pheno_df = pd.read_csv(pheno_folder+\"/EGAF00004691444/EGA_dataset_v0_1.csv\")\n",
    "pheno_df.columns = [i.strip(\" \") for i in pheno_df.columns.tolist()]\n",
    "pheno_df[\"study_id\"] = pheno_df[\"study_id\"].apply(lambda x: x.strip(\" \"))\n",
    "pheno_df[\"country_qc\"] = pheno_df[\"study_id\"].apply(lambda x: x.strip(\" \"))"
   ]
  },
  {
   "cell_type": "markdown",
   "metadata": {},
   "source": [
    "### Find samples that overlap with the VCF files"
   ]
  },
  {
   "cell_type": "code",
   "execution_count": 4,
   "metadata": {},
   "outputs": [],
   "source": [
    "ind_df = pd.read_csv(\"/expanse/protected/gymreklab-dbgap/mount/H3Africa/DS_I_Africa_project/from_ilifu/results/GWAS/PCs/calculate_pc/ind\",\n",
    "                     header=None,\n",
    "                     usecols=[0,1],\n",
    "                     sep=\"\\s+\", \n",
    "                     names=[\"study_id\",\"sex\"])\n",
    "ind_df = ind_df.merge(pheno_df[[\"study_id\",\"country_qc\"]],on=\"study_id\",how=\"left\")\n",
    "# fill those missing country one with \"no_label\"\n",
    "ind_df.country_qc.fillna(\"no_label\",inplace=True)\n",
    "ind_df.to_csv(\"/expanse/protected/gymreklab-dbgap/mount/H3Africa/DS_I_Africa_project/from_ilifu/results/GWAS/PCs/calculate_pc/ind_country\",\n",
    "              sep=\"\\t\",\n",
    "              header=None,\n",
    "              index=None)"
   ]
  },
  {
   "cell_type": "code",
   "execution_count": 81,
   "metadata": {},
   "outputs": [
    {
     "data": {
      "text/html": [
       "<div>\n",
       "<style scoped>\n",
       "    .dataframe tbody tr th:only-of-type {\n",
       "        vertical-align: middle;\n",
       "    }\n",
       "\n",
       "    .dataframe tbody tr th {\n",
       "        vertical-align: top;\n",
       "    }\n",
       "\n",
       "    .dataframe thead th {\n",
       "        text-align: right;\n",
       "    }\n",
       "</style>\n",
       "<table border=\"1\" class=\"dataframe\">\n",
       "  <thead>\n",
       "    <tr style=\"text-align: right;\">\n",
       "      <th></th>\n",
       "      <th>study_id</th>\n",
       "      <th>cohort_id_c</th>\n",
       "      <th>site</th>\n",
       "      <th>age</th>\n",
       "      <th>sex</th>\n",
       "      <th>country_qc</th>\n",
       "      <th>number_of_sons_qc</th>\n",
       "      <th>number_of_daughters_qc</th>\n",
       "      <th>number_of_children_c</th>\n",
       "      <th>number_of_pregnancies_qc</th>\n",
       "      <th>...</th>\n",
       "      <th>friedewald_ldl_c_c_qc</th>\n",
       "      <th>cholesterol_1_qc</th>\n",
       "      <th>non_hdl_c_c_qc</th>\n",
       "      <th>triglycerides_qc</th>\n",
       "      <th>ur_creatinine_qc</th>\n",
       "      <th>ur_albumin_qc</th>\n",
       "      <th>ur_protein_qc</th>\n",
       "      <th>acr_qc</th>\n",
       "      <th>egfr_c_qc</th>\n",
       "      <th>ckd_c_qc</th>\n",
       "    </tr>\n",
       "  </thead>\n",
       "  <tbody>\n",
       "    <tr>\n",
       "      <th>12032</th>\n",
       "      <td>(12032 rows)</td>\n",
       "      <td>NaN</td>\n",
       "      <td>NaN</td>\n",
       "      <td>NaN</td>\n",
       "      <td>NaN</td>\n",
       "      <td>(12032 rows)</td>\n",
       "      <td>NaN</td>\n",
       "      <td>NaN</td>\n",
       "      <td>NaN</td>\n",
       "      <td>NaN</td>\n",
       "      <td>...</td>\n",
       "      <td>NaN</td>\n",
       "      <td>NaN</td>\n",
       "      <td>NaN</td>\n",
       "      <td>NaN</td>\n",
       "      <td>NaN</td>\n",
       "      <td>NaN</td>\n",
       "      <td>NaN</td>\n",
       "      <td>NaN</td>\n",
       "      <td>NaN</td>\n",
       "      <td>NaN</td>\n",
       "    </tr>\n",
       "  </tbody>\n",
       "</table>\n",
       "<p>1 rows × 133 columns</p>\n",
       "</div>"
      ],
      "text/plain": [
       "           study_id cohort_id_c  site  age  sex    country_qc  \\\n",
       "12032  (12032 rows)         NaN   NaN  NaN  NaN  (12032 rows)   \n",
       "\n",
       "       number_of_sons_qc  number_of_daughters_qc number_of_children_c  \\\n",
       "12032                NaN                     NaN                  NaN   \n",
       "\n",
       "       number_of_pregnancies_qc  ... friedewald_ldl_c_c_qc  cholesterol_1_qc  \\\n",
       "12032                       NaN  ...                   NaN               NaN   \n",
       "\n",
       "       non_hdl_c_c_qc  triglycerides_qc  ur_creatinine_qc  ur_albumin_qc  \\\n",
       "12032             NaN               NaN               NaN            NaN   \n",
       "\n",
       "       ur_protein_qc  acr_qc  egfr_c_qc  ckd_c_qc  \n",
       "12032            NaN     NaN        NaN       NaN  \n",
       "\n",
       "[1 rows x 133 columns]"
      ]
     },
     "execution_count": 81,
     "metadata": {},
     "output_type": "execute_result"
    }
   ],
   "source": [
    "pheno_df[pheno_df[\"sex\"].isnull()]"
   ]
  },
  {
   "cell_type": "code",
   "execution_count": 5,
   "metadata": {},
   "outputs": [],
   "source": [
    "# pheno_df[[i  for i in pheno_df.columns.tolist() if \"ldl\" in i]][\" ldl_qc \"]#.isnull().sum()"
   ]
  },
  {
   "cell_type": "markdown",
   "metadata": {},
   "source": [
    "## 2. Check PCs"
   ]
  },
  {
   "cell_type": "code",
   "execution_count": 18,
   "metadata": {},
   "outputs": [],
   "source": [
    "pca_file=\"/expanse/protected/gymreklab-dbgap/mount/H3Africa/DS_I_Africa_project/from_ilifu/results/GWAS/PCs/calculate_pc/pca.evec\"\n",
    "pca_df=pd.read_csv(pca_file,sep=\"\\s+\",header=None,skiprows=1,engine='python')#,usecols=[0,1,2,3,4,5,6,7,8,9,10,13])\n",
    "eign_df = pd.read_csv(pca_file,sep=\"\\s+\",header=None,nrows=1,engine='python')#,usecols=[0,1,2,3,4,5,6,7,8,9,10,13])\n",
    "eign_list = eign_df[eign_df.columns[1:]].values[0]"
   ]
  },
  {
   "cell_type": "code",
   "execution_count": 31,
   "metadata": {},
   "outputs": [
    {
     "data": {
      "text/plain": [
       "Text(0.5, 1.0, 'Variance explained by PCs')"
      ]
     },
     "execution_count": 31,
     "metadata": {},
     "output_type": "execute_result"
    },
    {
     "data": {
      "image/png": "[encoded data removed]",
      "text/plain": [
       "<Figure size 432x288 with 1 Axes>"
      ]
     },
     "metadata": {
      "needs_background": "light"
     },
     "output_type": "display_data"
    }
   ],
   "source": [
    "plt.plot(range(1,11),[i/sum(eign_list) for i in eign_list],marker=\"o\")\n",
    "plt.xlabel(\"Principal Component\", fontsize=14)\n",
    "plt.ylabel(\"Proportion of\\n variance explained\", fontsize=14)\n",
    "plt.xlim([0.5,10.5])\n",
    "plt.title(\"Variance explained by PCs\",fontsize=16)"
   ]
  },
  {
   "cell_type": "code",
   "execution_count": 29,
   "metadata": {},
   "outputs": [
    {
     "data": {
      "text/plain": [
       "Text(0, 0.5, 'PC2')"
      ]
     },
     "execution_count": 29,
     "metadata": {},
     "output_type": "execute_result"
    },
    {
     "data": {
      "image/png": "[encoded data removed]",
      "text/plain": [
       "<Figure size 360x432 with 1 Axes>"
      ]
     },
     "metadata": {
      "needs_background": "light"
     },
     "output_type": "display_data"
    }
   ],
   "source": [
    "plt.figure(figsize=(5,6))\n",
    "\n",
    "for pop in pca_df[11].unique():#.loc[0][0].strip(\" \")#[0].split(\"\\t\")\n",
    "    plt.scatter(pca_df[pca_df[11]==pop][2],\n",
    "                pca_df[pca_df[11]==pop][1],\n",
    "                label=pop,\n",
    "                s=4)\n",
    "\n",
    "plt.legend()\n",
    "plt.xlabel(\"PC1\",fontsize=14)\n",
    "plt.ylabel(\"PC2\",fontsize=14)"
   ]
  },
  {
   "cell_type": "markdown",
   "metadata": {},
   "source": [
    "### Kinship compare"
   ]
  },
  {
   "cell_type": "code",
   "execution_count": 5,
   "metadata": {},
   "outputs": [],
   "source": [
    "filtered_file=\"/expanse/protected/gymreklab-dbgap/mount/H3Africa/DS_I_Africa_project/from_ilifu/results/GWAS/kinship/filtered_SNPs_kinship.kin0\"\n",
    "filtered_kin = pd.read_csv(filtered_file,sep=\"\\t\", usecols=[\"IID1\",\"IID2\",\"KINSHIP\"])"
   ]
  },
  {
   "cell_type": "code",
   "execution_count": 6,
   "metadata": {},
   "outputs": [],
   "source": [
    "all_file=\"/expanse/protected/gymreklab-dbgap/mount/H3Africa/DS_I_Africa_project/from_ilifu/results/GWAS/kinship/all_SNPs_kinship.kin0\"\n",
    "all_kin = pd.read_csv(filtered_file,sep=\"\\t\", usecols=[\"IID1\",\"IID2\",\"KINSHIP\"])\n",
    "all_kin = all_kin.merge(filtered_kin,on=[\"IID1\",\"IID2\"],suffixes=[\"_all\",\"_filtered\"])"
   ]
  },
  {
   "cell_type": "code",
   "execution_count": 7,
   "metadata": {},
   "outputs": [
    {
     "name": "stdout",
     "output_type": "stream",
     "text": [
      "There are 58,055,700 paired kinship, and 58,055,700 are the same\n"
     ]
    }
   ],
   "source": [
    "print(f\"There are {len(all_kin):,} paired kinship, and {sum(all_kin.KINSHIP_all==all_kin.KINSHIP_filtered):,} are the same\")"
   ]
  },
  {
   "cell_type": "code",
   "execution_count": 8,
   "metadata": {},
   "outputs": [
    {
     "name": "stdout",
     "output_type": "stream",
     "text": [
      "695 are third degree related samples (under the 0.177 threshold).\n"
     ]
    }
   ],
   "source": [
    "print(f\"{(all_kin.KINSHIP_all>0.177).sum():,} are third degree related samples (under the 0.177 threshold).\")"
   ]
  },
  {
   "cell_type": "markdown",
   "metadata": {},
   "source": [
    "## 3. Prepare phenotypes and covariates"
   ]
  },
  {
   "cell_type": "code",
   "execution_count": 5,
   "metadata": {},
   "outputs": [
    {
     "data": {
      "text/plain": [
       "['Main',\n",
       " '1. Demographic Information',\n",
       " '2. Behaviour_Lifestyle',\n",
       " '3. Health History',\n",
       " '4. Family History',\n",
       " '5. Exposure',\n",
       " '6. Infection History',\n",
       " '7. Cardiovascular Disease Risk',\n",
       " '8. Measurements & Calculations']"
      ]
     },
     "execution_count": 5,
     "metadata": {},
     "output_type": "execute_result"
    }
   ],
   "source": [
    "phnoe_excel = pd.ExcelFile(pheno_folder+\"/EGAF00004691445/V2.0_AWI-Gen_Code_Book-EGA_Variables.xlsx\")\n",
    "phnoe_excel.sheet_names"
   ]
  },
  {
   "cell_type": "markdown",
   "metadata": {},
   "source": [
    "### Check covariates"
   ]
  },
  {
   "cell_type": "code",
   "execution_count": 6,
   "metadata": {},
   "outputs": [],
   "source": [
    "demo_df = phnoe_excel.parse('1. Demographic Information',skiprows=2)"
   ]
  },
  {
   "cell_type": "code",
   "execution_count": 38,
   "metadata": {},
   "outputs": [
    {
     "data": {
      "text/plain": [
       "'Difference between date of birth and date of collection'"
      ]
     },
     "metadata": {},
     "output_type": "display_data"
    },
    {
     "data": {
      "text/plain": [
       "'0 - Female\\n1 - Male\\nBlank - not answered'"
      ]
     },
     "metadata": {},
     "output_type": "display_data"
    },
    {
     "name": "stdout",
     "output_type": "stream",
     "text": [
      "### Check number of samples missing covariates ###\n",
      "0 samples don't have sex information.\n",
      "0 samples don't have age information.\n"
     ]
    }
   ],
   "source": [
    "display(demo_df.set_index(\"Variable Name\").loc[\"age\"][\"Categorical Description\"])\n",
    "display(demo_df.set_index(\"Variable Name\").loc[\"sex\"][\"Categorical Description\"])\n",
    "print(\"### Check number of samples missing covariates ###\")\n",
    "print(f\"{len(pheno_df)-pheno_df.sex.isin([0,1]).sum()-1:,} samples don't have sex information.\")\n",
    "print(f\"{len(pheno_df)-(~pheno_df.age.isnull()).sum()-1:,} samples don't have age information.\")"
   ]
  },
  {
   "cell_type": "markdown",
   "metadata": {},
   "source": [
    "## Check phenotypes and prepare files for GWAS"
   ]
  },
  {
   "cell_type": "code",
   "execution_count": 16,
   "metadata": {},
   "outputs": [
    {
     "data": {
      "text/plain": [
       "'(ldl_qc, -999 - Missing\\n-111 - Out-of-range (lower bound)\\n-222 - Out-of-range (up bound)), 1413 samples with invalid/out-of-bound values))'"
      ]
     },
     "metadata": {},
     "output_type": "display_data"
    },
    {
     "data": {
      "text/plain": [
       "'(friedewald_ldl_c_c_qc, -999 = invalid \\n, 345 samples with invalid values))'"
      ]
     },
     "metadata": {},
     "output_type": "display_data"
    },
    {
     "data": {
      "text/plain": [
       "'(hdl_qc, -999 = invalid \\n, 313 samples with invalid values))'"
      ]
     },
     "metadata": {},
     "output_type": "display_data"
    }
   ],
   "source": [
    "measure_df = phnoe_excel.parse('8. Measurements & Calculations',skiprows=2)\n",
    "display(f'({measure_df.loc[21,\"Variable Name\"]}, {measure_df.loc[21,\"Categorical Description\"]}),\\\n",
    " {pheno_df[\"ldl_qc\"].isin([-999,-111,-222]).sum()} samples with invalid/out-of-bound values))')\n",
    "\n",
    "display(f'({measure_df.loc[22,\"Variable Name\"]}, {measure_df.loc[22,\"Categorical Description\"]},\\\n",
    " {pheno_df[\"friedewald_ldl_c_c_qc\"].isin([-999]).sum()} samples with invalid values))')\n",
    "\n",
    "display(f'({measure_df.loc[20,\"Variable Name\"]}, {measure_df.loc[22,\"Categorical Description\"]},\\\n",
    " {pheno_df[\"hdl_qc\"].isin([-999]).sum()} samples with invalid values))')"
   ]
  },
  {
   "cell_type": "code",
   "execution_count": 30,
   "metadata": {},
   "outputs": [
    {
     "data": {
      "text/html": [
       "<div>\n",
       "<style scoped>\n",
       "    .dataframe tbody tr th:only-of-type {\n",
       "        vertical-align: middle;\n",
       "    }\n",
       "\n",
       "    .dataframe tbody tr th {\n",
       "        vertical-align: top;\n",
       "    }\n",
       "\n",
       "    .dataframe thead th {\n",
       "        text-align: right;\n",
       "    }\n",
       "</style>\n",
       "<table border=\"1\" class=\"dataframe\">\n",
       "  <thead>\n",
       "    <tr style=\"text-align: right;\">\n",
       "      <th></th>\n",
       "      <th>Variable Name</th>\n",
       "      <th>Data Type</th>\n",
       "      <th>Unit</th>\n",
       "      <th>Description</th>\n",
       "      <th>Categorical Description</th>\n",
       "      <th>Notes &amp; Exceptions</th>\n",
       "    </tr>\n",
       "  </thead>\n",
       "  <tbody>\n",
       "    <tr>\n",
       "      <th>0</th>\n",
       "      <td>standing_height_qc</td>\n",
       "      <td>Continuous</td>\n",
       "      <td>mm</td>\n",
       "      <td>Standing height\\n</td>\n",
       "      <td>-999 - Missing</td>\n",
       "      <td>NaN</td>\n",
       "    </tr>\n",
       "    <tr>\n",
       "      <th>1</th>\n",
       "      <td>weight_qc</td>\n",
       "      <td>Continuous</td>\n",
       "      <td>kg</td>\n",
       "      <td>Weight\\n</td>\n",
       "      <td>-999 - Missing</td>\n",
       "      <td>NaN</td>\n",
       "    </tr>\n",
       "    <tr>\n",
       "      <th>2</th>\n",
       "      <td>bmi_c_qc</td>\n",
       "      <td>Continuous</td>\n",
       "      <td>kg/m2</td>\n",
       "      <td>BMI (calculated)</td>\n",
       "      <td>-999 - Missing</td>\n",
       "      <td>NaN</td>\n",
       "    </tr>\n",
       "    <tr>\n",
       "      <th>3</th>\n",
       "      <td>bmi_cat_c_qc</td>\n",
       "      <td>Continuous</td>\n",
       "      <td>weight in \\nkg/height in m2</td>\n",
       "      <td>BMI (categorical) (calculated)</td>\n",
       "      <td>0 - underweight is a BMI&lt;18.5\\n1 - normal weig...</td>\n",
       "      <td>NaN</td>\n",
       "    </tr>\n",
       "    <tr>\n",
       "      <th>4</th>\n",
       "      <td>waist_circumference_qc</td>\n",
       "      <td>Continuous</td>\n",
       "      <td>mm</td>\n",
       "      <td>Waist circumference\\n</td>\n",
       "      <td>-999 - Missing</td>\n",
       "      <td>Exception: Missing data for Agincourt over 70 ...</td>\n",
       "    </tr>\n",
       "    <tr>\n",
       "      <th>5</th>\n",
       "      <td>hip_circumference_qc</td>\n",
       "      <td>Continuous</td>\n",
       "      <td>mm</td>\n",
       "      <td>Hip circumference\\n</td>\n",
       "      <td>-999 - Missing</td>\n",
       "      <td>Exception: Missing data for Agincourt over 70 ...</td>\n",
       "    </tr>\n",
       "    <tr>\n",
       "      <th>6</th>\n",
       "      <td>waist_hip_r_c_qc</td>\n",
       "      <td>Continuous</td>\n",
       "      <td>NaN</td>\n",
       "      <td>Waist-to-hip ratio (calculated)</td>\n",
       "      <td>-999 - Missing\\n</td>\n",
       "      <td>Exception: Agincourt data missing for over 70 ...</td>\n",
       "    </tr>\n",
       "    <tr>\n",
       "      <th>7</th>\n",
       "      <td>bp_sys_average_qc</td>\n",
       "      <td>Continuous</td>\n",
       "      <td>mmHg</td>\n",
       "      <td>Average systolic blood pressure\\n</td>\n",
       "      <td>-999 - Missing</td>\n",
       "      <td>NaN</td>\n",
       "    </tr>\n",
       "    <tr>\n",
       "      <th>8</th>\n",
       "      <td>bp_dia_average_qc</td>\n",
       "      <td>Continuous</td>\n",
       "      <td>mmHg</td>\n",
       "      <td>Average diastolic blood pressure\\n</td>\n",
       "      <td>-999 - Missing</td>\n",
       "      <td>NaN</td>\n",
       "    </tr>\n",
       "    <tr>\n",
       "      <th>9</th>\n",
       "      <td>htn_jnc7_qc</td>\n",
       "      <td>Categorical</td>\n",
       "      <td>NaN</td>\n",
       "      <td>Hypertension status (calculated)\\n\\n</td>\n",
       "      <td>0 - no hypertension\\n1 - hypertension present\\...</td>\n",
       "      <td>Note self report HT, or SBP &gt;=140 or DBP &gt;= 90...</td>\n",
       "    </tr>\n",
       "    <tr>\n",
       "      <th>10</th>\n",
       "      <td>pulse_average_qc</td>\n",
       "      <td>Continuous</td>\n",
       "      <td>beats/min</td>\n",
       "      <td>Average pulse rate</td>\n",
       "      <td>-999 - Missing</td>\n",
       "      <td>NaN</td>\n",
       "    </tr>\n",
       "    <tr>\n",
       "      <th>11</th>\n",
       "      <td>visceral_fat_qc</td>\n",
       "      <td>Continuous</td>\n",
       "      <td>mm</td>\n",
       "      <td>Visceral fat\\n</td>\n",
       "      <td>-999 - Missing</td>\n",
       "      <td>Exception: Missing data for Agincourt over 70 ...</td>\n",
       "    </tr>\n",
       "    <tr>\n",
       "      <th>12</th>\n",
       "      <td>subcutaneous_fat_qc</td>\n",
       "      <td>Continuous</td>\n",
       "      <td>mm</td>\n",
       "      <td>Subcutaneous fat\\n</td>\n",
       "      <td>-999 - Missing</td>\n",
       "      <td>Exception: Missing data for Agincourt over 70 ...</td>\n",
       "    </tr>\n",
       "    <tr>\n",
       "      <th>13</th>\n",
       "      <td>mean_cimt_right_qc</td>\n",
       "      <td>Continuous</td>\n",
       "      <td>mm</td>\n",
       "      <td>Mean right CIMT\\n</td>\n",
       "      <td>-999 - Missing</td>\n",
       "      <td>Exception: Missing data for Soweto women and a...</td>\n",
       "    </tr>\n",
       "    <tr>\n",
       "      <th>14</th>\n",
       "      <td>mean_cimt_left_qc</td>\n",
       "      <td>Continuous</td>\n",
       "      <td>mm</td>\n",
       "      <td>Mean left CIMT\\n</td>\n",
       "      <td>-999 - Missing</td>\n",
       "      <td>Exception: Missing data for Soweto women and a...</td>\n",
       "    </tr>\n",
       "    <tr>\n",
       "      <th>15</th>\n",
       "      <td>fasting_confirmation_qc</td>\n",
       "      <td>Categorical</td>\n",
       "      <td>NaN</td>\n",
       "      <td>Confirmation of fasting prior to blood sample ...</td>\n",
       "      <td>0 - No\\n1 - Yes\\n-999 - Missing</td>\n",
       "      <td>Exception: Missing data for Agincourt over 70 ...</td>\n",
       "    </tr>\n",
       "    <tr>\n",
       "      <th>16</th>\n",
       "      <td>glucose_qc</td>\n",
       "      <td>Continous</td>\n",
       "      <td>mmol/L</td>\n",
       "      <td>Glucose (fasting)</td>\n",
       "      <td>-999 - Missing\\n-111 - Out-of-range (lower bou...</td>\n",
       "      <td>Notes: check fasting variable to determine if ...</td>\n",
       "    </tr>\n",
       "    <tr>\n",
       "      <th>17</th>\n",
       "      <td>insulin_qc</td>\n",
       "      <td>Continous</td>\n",
       "      <td>uIU/ml</td>\n",
       "      <td>Insulin (fasting)</td>\n",
       "      <td>-999 - Missing\\n-111 - Out-of-range (lower bou...</td>\n",
       "      <td>Notes: check fasting variable to determine if ...</td>\n",
       "    </tr>\n",
       "    <tr>\n",
       "      <th>18</th>\n",
       "      <td>diabetes_status_c_qc</td>\n",
       "      <td>Categorical</td>\n",
       "      <td>NaN</td>\n",
       "      <td>Diabetes status (calculated)</td>\n",
       "      <td>0 - Not Diabetic\\n1 - Diabetic\\n-999 - Missing</td>\n",
       "      <td>Notes: self-reported OR on medication OR fasti...</td>\n",
       "    </tr>\n",
       "    <tr>\n",
       "      <th>19</th>\n",
       "      <td>s_creatinine_qc</td>\n",
       "      <td>Continous</td>\n",
       "      <td>umol/L</td>\n",
       "      <td>Serum creatine (fasting)</td>\n",
       "      <td>-999 - Missing\\n-111 - Out-of-range (lower bou...</td>\n",
       "      <td>Notes: check fasting variable to determine if ...</td>\n",
       "    </tr>\n",
       "    <tr>\n",
       "      <th>20</th>\n",
       "      <td>hdl_qc</td>\n",
       "      <td>Continuous</td>\n",
       "      <td>mmol/L</td>\n",
       "      <td>HDL cholesterol (measured - fasting)</td>\n",
       "      <td>-999 - Missing\\n-111 - Out-of-range (lower bou...</td>\n",
       "      <td>Notes: check fasting variable to determine if ...</td>\n",
       "    </tr>\n",
       "    <tr>\n",
       "      <th>21</th>\n",
       "      <td>ldl_qc</td>\n",
       "      <td>Continuous</td>\n",
       "      <td>mmol/L</td>\n",
       "      <td>LDL cholesterol result (measured - fasting)</td>\n",
       "      <td>-999 - Missing\\n-111 - Out-of-range (lower bou...</td>\n",
       "      <td>Notes: check fasting variable to determine if ...</td>\n",
       "    </tr>\n",
       "    <tr>\n",
       "      <th>22</th>\n",
       "      <td>friedewald_ldl_c_c_qc</td>\n",
       "      <td>Continuous</td>\n",
       "      <td>mmol/L</td>\n",
       "      <td>Low-density lipoprotein (LDL)-cholesterol (Fri...</td>\n",
       "      <td>-999 = invalid \\n</td>\n",
       "      <td>Note: Calculated according to the Friedewald e...</td>\n",
       "    </tr>\n",
       "    <tr>\n",
       "      <th>23</th>\n",
       "      <td>cholesterol_1_qc</td>\n",
       "      <td>Continuous</td>\n",
       "      <td>mmol/L</td>\n",
       "      <td>Total cholesterol (measured - fasting)\\n</td>\n",
       "      <td>-999 - Missing\\n-111 - Out-of-range (lower bou...</td>\n",
       "      <td>Notes: Randox Plus clinical chemistry analyser...</td>\n",
       "    </tr>\n",
       "    <tr>\n",
       "      <th>24</th>\n",
       "      <td>non_hdl_c_c_qc</td>\n",
       "      <td>Continuous</td>\n",
       "      <td>NaN</td>\n",
       "      <td>Non-HDL calculated variable (Total cholesterol...</td>\n",
       "      <td>-999 - Missing</td>\n",
       "      <td>NaN</td>\n",
       "    </tr>\n",
       "    <tr>\n",
       "      <th>25</th>\n",
       "      <td>triglycerides_qc</td>\n",
       "      <td>Continuous</td>\n",
       "      <td>mmol/L</td>\n",
       "      <td>Triglycerides (measured - fasting)</td>\n",
       "      <td>-999 - Missing\\n-111 - Out-of-range (lower bou...</td>\n",
       "      <td>Notes: check fasting variable to determine if ...</td>\n",
       "    </tr>\n",
       "    <tr>\n",
       "      <th>26</th>\n",
       "      <td>ur_creatinine_qc</td>\n",
       "      <td>Continuous</td>\n",
       "      <td>mmol/L</td>\n",
       "      <td>Urinary creatinine (spot urine sample)\\n</td>\n",
       "      <td>-999 - Missing\\n-111 - Out-of-range (lower bou...</td>\n",
       "      <td>Exception: Missing all Soweto females and all ...</td>\n",
       "    </tr>\n",
       "    <tr>\n",
       "      <th>27</th>\n",
       "      <td>ur_albumin_qc</td>\n",
       "      <td>Continuous</td>\n",
       "      <td>mg/L</td>\n",
       "      <td>Urine albumin (mg/L) (spot urine sample)\\n</td>\n",
       "      <td>-999 - Missing\\n-111 - Out-of-range (lower bou...</td>\n",
       "      <td>Exception: Missing data for Soweto women and a...</td>\n",
       "    </tr>\n",
       "    <tr>\n",
       "      <th>28</th>\n",
       "      <td>ur_protein_qc</td>\n",
       "      <td>Continuous</td>\n",
       "      <td>g/L</td>\n",
       "      <td>Urine total protein (g/L) (spot urine sample)\\n</td>\n",
       "      <td>-999 - Missing \\n-111 - Out-of-range (lower bo...</td>\n",
       "      <td>Exception: Missing data for Soweto women and a...</td>\n",
       "    </tr>\n",
       "    <tr>\n",
       "      <th>29</th>\n",
       "      <td>acr_qc</td>\n",
       "      <td>Continuous</td>\n",
       "      <td>NaN</td>\n",
       "      <td>ACR (calculated)\\n\\n\\n\\n</td>\n",
       "      <td>-999 - Missing\\n-111 - Out-of-range (lower bou...</td>\n",
       "      <td>Note: Urinary albumin (if &gt;400 then rounded to...</td>\n",
       "    </tr>\n",
       "    <tr>\n",
       "      <th>30</th>\n",
       "      <td>egfr_c_qc</td>\n",
       "      <td>Continuous</td>\n",
       "      <td>mL/min/1.73 m2</td>\n",
       "      <td>eGFR (Glomerular filtration rate) (calculated)...</td>\n",
       "      <td>-999 - missing</td>\n",
       "      <td>Note: Calculated according to CKD-EPI (without...</td>\n",
       "    </tr>\n",
       "    <tr>\n",
       "      <th>31</th>\n",
       "      <td>ckd_c_qc</td>\n",
       "      <td>Categorical</td>\n",
       "      <td>NaN</td>\n",
       "      <td>Chronic kidney disease (CKD) based on eGFR (Gl...</td>\n",
       "      <td>0 - No\\n1 - Yes\\n-999 - Missing\\n\\n</td>\n",
       "      <td>Note: When urinary albumin below range there i...</td>\n",
       "    </tr>\n",
       "  </tbody>\n",
       "</table>\n",
       "</div>"
      ],
      "text/plain": [
       "              Variable Name    Data Type                         Unit  \\\n",
       "0        standing_height_qc   Continuous                           mm   \n",
       "1                 weight_qc   Continuous                           kg   \n",
       "2                  bmi_c_qc   Continuous                        kg/m2   \n",
       "3              bmi_cat_c_qc   Continuous  weight in \\nkg/height in m2   \n",
       "4    waist_circumference_qc   Continuous                           mm   \n",
       "5      hip_circumference_qc   Continuous                           mm   \n",
       "6          waist_hip_r_c_qc   Continuous                          NaN   \n",
       "7         bp_sys_average_qc   Continuous                         mmHg   \n",
       "8         bp_dia_average_qc   Continuous                         mmHg   \n",
       "9               htn_jnc7_qc  Categorical                          NaN   \n",
       "10         pulse_average_qc   Continuous                    beats/min   \n",
       "11          visceral_fat_qc   Continuous                           mm   \n",
       "12      subcutaneous_fat_qc   Continuous                           mm   \n",
       "13       mean_cimt_right_qc   Continuous                           mm   \n",
       "14        mean_cimt_left_qc   Continuous                           mm   \n",
       "15  fasting_confirmation_qc  Categorical                          NaN   \n",
       "16               glucose_qc    Continous                       mmol/L   \n",
       "17               insulin_qc    Continous                       uIU/ml   \n",
       "18     diabetes_status_c_qc  Categorical                          NaN   \n",
       "19          s_creatinine_qc    Continous                       umol/L   \n",
       "20                   hdl_qc   Continuous                       mmol/L   \n",
       "21                   ldl_qc   Continuous                       mmol/L   \n",
       "22    friedewald_ldl_c_c_qc   Continuous                       mmol/L   \n",
       "23         cholesterol_1_qc   Continuous                       mmol/L   \n",
       "24           non_hdl_c_c_qc   Continuous                          NaN   \n",
       "25         triglycerides_qc   Continuous                       mmol/L   \n",
       "26         ur_creatinine_qc   Continuous                       mmol/L   \n",
       "27            ur_albumin_qc   Continuous                         mg/L   \n",
       "28            ur_protein_qc   Continuous                          g/L   \n",
       "29                   acr_qc   Continuous                          NaN   \n",
       "30                egfr_c_qc   Continuous               mL/min/1.73 m2   \n",
       "31                 ckd_c_qc  Categorical                          NaN   \n",
       "\n",
       "                                          Description  \\\n",
       "0                                   Standing height\\n   \n",
       "1                                            Weight\\n   \n",
       "2                                    BMI (calculated)   \n",
       "3                      BMI (categorical) (calculated)   \n",
       "4                               Waist circumference\\n   \n",
       "5                                 Hip circumference\\n   \n",
       "6                     Waist-to-hip ratio (calculated)   \n",
       "7                   Average systolic blood pressure\\n   \n",
       "8                  Average diastolic blood pressure\\n   \n",
       "9                Hypertension status (calculated)\\n\\n   \n",
       "10                                 Average pulse rate   \n",
       "11                                     Visceral fat\\n   \n",
       "12                                 Subcutaneous fat\\n   \n",
       "13                                  Mean right CIMT\\n   \n",
       "14                                   Mean left CIMT\\n   \n",
       "15  Confirmation of fasting prior to blood sample ...   \n",
       "16                                  Glucose (fasting)   \n",
       "17                                  Insulin (fasting)   \n",
       "18                       Diabetes status (calculated)   \n",
       "19                           Serum creatine (fasting)   \n",
       "20               HDL cholesterol (measured - fasting)   \n",
       "21        LDL cholesterol result (measured - fasting)   \n",
       "22  Low-density lipoprotein (LDL)-cholesterol (Fri...   \n",
       "23           Total cholesterol (measured - fasting)\\n   \n",
       "24  Non-HDL calculated variable (Total cholesterol...   \n",
       "25                 Triglycerides (measured - fasting)   \n",
       "26           Urinary creatinine (spot urine sample)\\n   \n",
       "27         Urine albumin (mg/L) (spot urine sample)\\n   \n",
       "28    Urine total protein (g/L) (spot urine sample)\\n   \n",
       "29                           ACR (calculated)\\n\\n\\n\\n   \n",
       "30  eGFR (Glomerular filtration rate) (calculated)...   \n",
       "31  Chronic kidney disease (CKD) based on eGFR (Gl...   \n",
       "\n",
       "                              Categorical Description  \\\n",
       "0                                      -999 - Missing   \n",
       "1                                      -999 - Missing   \n",
       "2                                      -999 - Missing   \n",
       "3   0 - underweight is a BMI<18.5\\n1 - normal weig...   \n",
       "4                                      -999 - Missing   \n",
       "5                                      -999 - Missing   \n",
       "6                                    -999 - Missing\\n   \n",
       "7                                      -999 - Missing   \n",
       "8                                      -999 - Missing   \n",
       "9   0 - no hypertension\\n1 - hypertension present\\...   \n",
       "10                                     -999 - Missing   \n",
       "11                                     -999 - Missing   \n",
       "12                                     -999 - Missing   \n",
       "13                                     -999 - Missing   \n",
       "14                                     -999 - Missing   \n",
       "15                    0 - No\\n1 - Yes\\n-999 - Missing   \n",
       "16  -999 - Missing\\n-111 - Out-of-range (lower bou...   \n",
       "17  -999 - Missing\\n-111 - Out-of-range (lower bou...   \n",
       "18     0 - Not Diabetic\\n1 - Diabetic\\n-999 - Missing   \n",
       "19  -999 - Missing\\n-111 - Out-of-range (lower bou...   \n",
       "20  -999 - Missing\\n-111 - Out-of-range (lower bou...   \n",
       "21  -999 - Missing\\n-111 - Out-of-range (lower bou...   \n",
       "22                                  -999 = invalid \\n   \n",
       "23  -999 - Missing\\n-111 - Out-of-range (lower bou...   \n",
       "24                                     -999 - Missing   \n",
       "25  -999 - Missing\\n-111 - Out-of-range (lower bou...   \n",
       "26  -999 - Missing\\n-111 - Out-of-range (lower bou...   \n",
       "27  -999 - Missing\\n-111 - Out-of-range (lower bou...   \n",
       "28  -999 - Missing \\n-111 - Out-of-range (lower bo...   \n",
       "29  -999 - Missing\\n-111 - Out-of-range (lower bou...   \n",
       "30                                     -999 - missing   \n",
       "31                0 - No\\n1 - Yes\\n-999 - Missing\\n\\n   \n",
       "\n",
       "                                   Notes & Exceptions  \n",
       "0                                                 NaN  \n",
       "1                                                 NaN  \n",
       "2                                                 NaN  \n",
       "3                                                 NaN  \n",
       "4   Exception: Missing data for Agincourt over 70 ...  \n",
       "5   Exception: Missing data for Agincourt over 70 ...  \n",
       "6   Exception: Agincourt data missing for over 70 ...  \n",
       "7                                                 NaN  \n",
       "8                                                 NaN  \n",
       "9   Note self report HT, or SBP >=140 or DBP >= 90...  \n",
       "10                                                NaN  \n",
       "11  Exception: Missing data for Agincourt over 70 ...  \n",
       "12  Exception: Missing data for Agincourt over 70 ...  \n",
       "13  Exception: Missing data for Soweto women and a...  \n",
       "14  Exception: Missing data for Soweto women and a...  \n",
       "15  Exception: Missing data for Agincourt over 70 ...  \n",
       "16  Notes: check fasting variable to determine if ...  \n",
       "17  Notes: check fasting variable to determine if ...  \n",
       "18  Notes: self-reported OR on medication OR fasti...  \n",
       "19  Notes: check fasting variable to determine if ...  \n",
       "20  Notes: check fasting variable to determine if ...  \n",
       "21  Notes: check fasting variable to determine if ...  \n",
       "22  Note: Calculated according to the Friedewald e...  \n",
       "23  Notes: Randox Plus clinical chemistry analyser...  \n",
       "24                                                NaN  \n",
       "25  Notes: check fasting variable to determine if ...  \n",
       "26  Exception: Missing all Soweto females and all ...  \n",
       "27  Exception: Missing data for Soweto women and a...  \n",
       "28  Exception: Missing data for Soweto women and a...  \n",
       "29  Note: Urinary albumin (if >400 then rounded to...  \n",
       "30  Note: Calculated according to CKD-EPI (without...  \n",
       "31  Note: When urinary albumin below range there i...  "
      ]
     },
     "execution_count": 30,
     "metadata": {},
     "output_type": "execute_result"
    }
   ],
   "source": [
    "measure_df"
   ]
  },
  {
   "cell_type": "code",
   "execution_count": 9,
   "metadata": {},
   "outputs": [
    {
     "data": {
      "text/plain": [
       "['hdl_qc', 'non_hdl_c_c_qc']"
      ]
     },
     "execution_count": 9,
     "metadata": {},
     "output_type": "execute_result"
    }
   ],
   "source": [
    "[i for i in pheno_df.columns.tolist() if \"hdl\" in i]"
   ]
  },
  {
   "cell_type": "code",
   "execution_count": null,
   "metadata": {},
   "outputs": [],
   "source": [
    "display(f'({measure_df.loc[22,\"Variable Name\"]}, {measure_df.loc[22,\"Categorical Description\"]},\\\n",
    " {pheno_df[\"friedewald_ldl_c_c_qc\"].isin([-999]).sum()} samples with invalid values))')"
   ]
  },
  {
   "cell_type": "code",
   "execution_count": 64,
   "metadata": {},
   "outputs": [
    {
     "data": {
      "text/plain": [
       "\"(cholesterol_treatment_qc, 0 - No\\n1 - Yes\\n2 - Don't Know\\n-999 - Missing\\n-555 - Not Applicable)\""
      ]
     },
     "metadata": {},
     "output_type": "display_data"
    },
    {
     "data": {
      "text/plain": [
       "'(11956 samples with missing phenotypes)'"
      ]
     },
     "metadata": {},
     "output_type": "display_data"
    }
   ],
   "source": [
    "health_df = phnoe_excel.parse('7. Cardiovascular Disease Risk',skiprows=2)\n",
    "display(f'({health_df.loc[27,\"Variable Name\"]}, {health_df.loc[27,\"Categorical Description\"]})')\n",
    "display(f'({pheno_df[\"cholesterol_treatment_qc\"].isin([-999,-555]).sum()} samples with missing phenotypes)')"
   ]
  },
  {
   "cell_type": "markdown",
   "metadata": {},
   "source": [
    "--pheno causes (additional) phenotype values to be read from the specified space- or tab-delimited file. The first columns of that file must be either FID/IID or just IID (in which case the FID is assumed to be 0). A primary header line is required when using --pheno-name, and optional without it (if it's present, it should begin with 'FID', '#FID', 'IID', or '#IID'). Additional header lines (beginning with '#', not immediately followed by 'FID'/'IID') are permitted before the primary header line. For example:\n",
    "\n",
    "#IID  qt1    bmi    site\n",
    "1110  2.3    22.22  site2\n",
    "2202  34.12  18.23  site1"
   ]
  },
  {
   "cell_type": "markdown",
   "metadata": {},
   "source": [
    "### Save the phenotypes and covariates samples"
   ]
  },
  {
   "cell_type": "markdown",
   "metadata": {},
   "source": [
    "#### ldl"
   ]
  },
  {
   "cell_type": "code",
   "execution_count": 99,
   "metadata": {},
   "outputs": [],
   "source": [
    "valid_pheno = set(pheno_df[~pheno_df[\"friedewald_ldl_c_c_qc\"].isin([-999])].study_id)\n",
    "pca_pheno_shared = list(set(pca_df[0]) & set(pheno_df[\"study_id\"]) & valid_pheno)"
   ]
  },
  {
   "cell_type": "code",
   "execution_count": 100,
   "metadata": {},
   "outputs": [],
   "source": [
    "# filtered samples for phenotypes\n",
    "selected_pheno_df=pheno_df.set_index(\"study_id\").loc[pca_pheno_shared][[\"age\",\"sex\",\"friedewald_ldl_c_c_qc\"]].reset_index()\n",
    "selected_pheno_df.rename(columns={\"study_id\":\"#IID\"},inplace=True)\n",
    "selected_pheno_df[\"sex\"]=selected_pheno_df.sex.astype(int)\n",
    "selected_pheno_df[\"age\"]=selected_pheno_df.age.astype(int)\n",
    "selected_pheno_df.set_index(\"#IID\",inplace=True)\n",
    "\n",
    "# filtered samples for PCs\n",
    "selected_pc = pca_df[range(0,6)].copy()\n",
    "selected_pc.columns=[\"#IID\"]+[ f\"PC{i}\" for i in pca_df.columns.tolist()[1:6]]\n",
    "selected_pc=selected_pc.set_index(\"#IID\").loc[pca_pheno_shared]"
   ]
  },
  {
   "cell_type": "code",
   "execution_count": 99,
   "metadata": {},
   "outputs": [],
   "source": [
    "save_dir=\"/expanse/protected/gymreklab-dbgap/mount/H3Africa/DS_I_Africa_project/from_ilifu/results/GWAS/regression_files/friedewald_ldl_c\""
   ]
  },
  {
   "cell_type": "code",
   "execution_count": 103,
   "metadata": {},
   "outputs": [],
   "source": [
    "final_pheno = selected_pheno_df[[\"friedewald_ldl_c_c_qc\"]].copy()\n",
    "final_pheno.to_csv(f\"{save_dir}/friedewald_ldl_pheno.tsv\",sep=\"\\t\")"
   ]
  },
  {
   "cell_type": "code",
   "execution_count": 105,
   "metadata": {},
   "outputs": [
    {
     "data": {
      "text/plain": [
       "<AxesSubplot:>"
      ]
     },
     "execution_count": 105,
     "metadata": {},
     "output_type": "execute_result"
    },
    {
     "data": {
      "image/png": "[encoded data removed]",
      "text/plain": [
       "<Figure size 432x288 with 1 Axes>"
      ]
     },
     "metadata": {
      "needs_background": "light"
     },
     "output_type": "display_data"
    }
   ],
   "source": [
    "final_pheno.friedewald_ldl_c_c_qc.hist()"
   ]
  },
  {
   "cell_type": "code",
   "execution_count": 102,
   "metadata": {},
   "outputs": [],
   "source": [
    "final_cov = selected_pheno_df[[\"age\",\"sex\"]].merge(selected_pc,left_index=True,right_index=True)\n",
    "final_cov.to_csv(f\"{save_dir}/ldlc_covs.tsv\",sep=\"\\t\")"
   ]
  },
  {
   "cell_type": "markdown",
   "metadata": {},
   "source": [
    "# hdl"
   ]
  },
  {
   "cell_type": "code",
   "execution_count": 19,
   "metadata": {},
   "outputs": [],
   "source": [
    "valid_pheno = set(pheno_df[~pheno_df[\"hdl_qc\"].isin([-999])].study_id)\n",
    "pca_pheno_shared = list(set(pca_df[0]) & set(pheno_df[\"study_id\"]) & valid_pheno)"
   ]
  },
  {
   "cell_type": "code",
   "execution_count": 24,
   "metadata": {},
   "outputs": [],
   "source": [
    "# filtered samples for phenotypes\n",
    "selected_pheno_df=pheno_df.set_index(\"study_id\").loc[pca_pheno_shared][[\"age\",\"sex\",\"hdl_qc\"]].reset_index()\n",
    "selected_pheno_df.rename(columns={\"study_id\":\"#IID\"},inplace=True)\n",
    "selected_pheno_df[\"sex\"]=selected_pheno_df.sex.astype(int)\n",
    "selected_pheno_df[\"age\"]=selected_pheno_df.age.astype(int)\n",
    "selected_pheno_df.set_index(\"#IID\",inplace=True)\n",
    "\n",
    "# filtered samples for PCs\n",
    "selected_pc = pca_df[range(0,6)].copy()\n",
    "selected_pc.columns=[\"#IID\"]+[ f\"PC{i}\" for i in pca_df.columns.tolist()[1:6]]\n",
    "selected_pc=selected_pc.set_index(\"#IID\").loc[pca_pheno_shared]"
   ]
  },
  {
   "cell_type": "code",
   "execution_count": 22,
   "metadata": {},
   "outputs": [],
   "source": [
    "save_dir=\"/expanse/protected/gymreklab-dbgap/mount/H3Africa/DS_I_Africa_project/from_ilifu/results/GWAS/regression_files/hdl_qc\"\n",
    "os.makedirs(save_dir)"
   ]
  },
  {
   "cell_type": "code",
   "execution_count": 28,
   "metadata": {},
   "outputs": [],
   "source": [
    "final_pheno = selected_pheno_df[[\"hdl_qc\"]].copy()\n",
    "final_pheno.to_csv(f\"{save_dir}/hdl_qc_pheno.tsv\",sep=\"\\t\")"
   ]
  },
  {
   "cell_type": "code",
   "execution_count": 29,
   "metadata": {},
   "outputs": [],
   "source": [
    "final_cov = selected_pheno_df[[\"age\",\"sex\"]].merge(selected_pc,left_index=True,right_index=True)\n",
    "final_cov.to_csv(f\"{save_dir}/hdl_covs.tsv\",sep=\"\\t\")"
   ]
  },
  {
   "cell_type": "code",
   "execution_count": null,
   "metadata": {},
   "outputs": [],
   "source": []
  }
 ],
 "metadata": {
  "kernelspec": {
   "display_name": "Python 3",
   "language": "python",
   "name": "python3"
  },
  "language_info": {
   "codemirror_mode": {
    "name": "ipython",
    "version": 3
   },
   "file_extension": ".py",
   "mimetype": "text/x-python",
   "name": "python",
   "nbconvert_exporter": "python",
   "pygments_lexer": "ipython3",
   "version": "3.8.5"
  }
 },
 "nbformat": 4,
 "nbformat_minor": 4
}
